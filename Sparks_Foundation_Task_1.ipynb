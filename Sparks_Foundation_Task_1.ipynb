{
  "nbformat": 4,
  "nbformat_minor": 0,
  "metadata": {
    "kernelspec": {
      "display_name": "Python 3",
      "language": "python",
      "name": "python3"
    },
    "language_info": {
      "codemirror_mode": {
        "name": "ipython",
        "version": 3
      },
      "file_extension": ".py",
      "mimetype": "text/x-python",
      "name": "python",
      "nbconvert_exporter": "python",
      "pygments_lexer": "ipython3",
      "version": "3.8.5"
    },
    "colab": {
      "name": "Sparks Foundation Task-1.ipynb",
      "provenance": [],
      "include_colab_link": true
    }
  },
  "cells": [
    {
      "cell_type": "markdown",
      "metadata": {
        "id": "view-in-github",
        "colab_type": "text"
      },
      "source": [
        "<a href=\"https://colab.research.google.com/github/Sourav61/Sparks-Foundation-Task-1/blob/main/Sparks_Foundation_Task_1.ipynb\" target=\"_parent\"><img src=\"https://colab.research.google.com/assets/colab-badge.svg\" alt=\"Open In Colab\"/></a>"
      ]
    },
    {
      "cell_type": "code",
      "metadata": {
        "colab": {
          "base_uri": "https://localhost:8080/"
        },
        "id": "F7SI6d2EIUAk",
        "outputId": "d1cc12b7-7bad-4aa5-c517-9836b94e329a"
      },
      "source": [
        "from google.colab import drive\n",
        "drive.mount('/content/drive')"
      ],
      "execution_count": 1,
      "outputs": [
        {
          "output_type": "stream",
          "text": [
            "Mounted at /content/drive\n"
          ],
          "name": "stdout"
        }
      ]
    },
    {
      "cell_type": "markdown",
      "metadata": {
        "id": "kMic0WSmIRSY"
      },
      "source": [
        "<h1>Author: Sourav Pahwa</h1>\n",
        "<h2>GRIPMAY2021 - The Sparks Foundation - Data Science & Business Analytics Internship</h2>\n",
        "<h3><b>Task-1 : Prediction using Supervised Machine Learning</b></h3>\n",
        "<ul style=\"list-style-type:square\"><h4><li>The Problem statement rquires us to predict the percentage score of a student based on the no. of study hours and we have to predict the score if a student studies for 9.25 hrs/ day</li></h4></ul>"
      ]
    },
    {
      "cell_type": "code",
      "metadata": {
        "id": "PM-ymwvUIRSf"
      },
      "source": [
        "# Importing All essential Libraries\n",
        "import numpy as np\n",
        "import pandas as pd\n",
        "import matplotlib.pyplot as plt\n",
        "import seaborn as sb\n",
        "\n",
        "%matplotlib inline"
      ],
      "execution_count": null,
      "outputs": []
    },
    {
      "cell_type": "code",
      "metadata": {
        "id": "0IqvyJYwIRSg"
      },
      "source": [
        "# Importing the data\n",
        "\n",
        "Data = pd.read_csv(\"http://bit.ly/w-data\")\n",
        "print(\"Data imported successfully\")\n",
        "# Here we are checking the shape of the data(i.e. number of  the rows and columns in that dataset)\n",
        "\n",
        "print(Data.shape)\n",
        "# Here we are looking at the first 5 rows of the dataset given\n",
        "\n",
        "print(Data.head())\n",
        "# Data.tail()"
      ],
      "execution_count": null,
      "outputs": []
    },
    {
      "cell_type": "code",
      "metadata": {
        "id": "RgHOqSoaIRSh"
      },
      "source": [
        "# Here we are checking for any null values in our dataset\n",
        "\n",
        "Data.isnull().sum()"
      ],
      "execution_count": null,
      "outputs": []
    },
    {
      "cell_type": "code",
      "metadata": {
        "id": "nzWbfOtWIRSi"
      },
      "source": [
        "Data.plot(x='Hours', y='Scores', style='*', color='Purple')  \n",
        "plt.title('Hours vs Percentage')  \n",
        "plt.xlabel('Hours Studied')  \n",
        "plt.ylabel('Percentage Score')  \n",
        "plt.show()"
      ],
      "execution_count": null,
      "outputs": []
    },
    {
      "cell_type": "code",
      "metadata": {
        "id": "4j-aTtjSIRSi"
      },
      "source": [
        "# Here we divide data into atrributes and labels\n",
        "\n",
        "x = Data.iloc[:, :-1].values  \n",
        "y = Data.iloc[:, 1].values \n",
        "print(x)   \n",
        "print(y)"
      ],
      "execution_count": null,
      "outputs": []
    },
    {
      "cell_type": "code",
      "metadata": {
        "id": "_scirD4aIRSj"
      },
      "source": [
        "# Now we are splitting our data into test data and training data.\n",
        "\n",
        "from sklearn.model_selection import train_test_split  \n",
        "x_train, x_test, y_train, y_test = train_test_split(x, y, \n",
        "                            test_size=0.3, random_state=0) "
      ],
      "execution_count": null,
      "outputs": []
    },
    {
      "cell_type": "code",
      "metadata": {
        "id": "JOM0XdsjIRSj"
      },
      "source": [
        "# Let's train our algorithm\n",
        "\n",
        "from sklearn.linear_model import LinearRegression  \n",
        "plot = LinearRegression()  \n",
        "plot.fit(x_train, y_train) \n",
        "\n",
        "print(\"Model Trained successfully!!\")"
      ],
      "execution_count": null,
      "outputs": []
    },
    {
      "cell_type": "code",
      "metadata": {
        "id": "lJQT2hVoIRSk"
      },
      "source": [
        "# Plotting the regression line\n",
        "# y=mx+c\n",
        "line = plot.coef_*x + plot.intercept_\n",
        "\n",
        "# Plotting test data \n",
        "plt.scatter(x, y, marker='*', color='Purple')\n",
        "plt.plot(x, line);\n",
        "plt.show()"
      ],
      "execution_count": null,
      "outputs": []
    },
    {
      "cell_type": "code",
      "metadata": {
        "id": "jX9rl10dIRSk"
      },
      "source": [
        "# Testing data - In Hours\n",
        "print(x_test) \n",
        "# Predicting the scores\n",
        "y_pred = plot.predict(x_test)"
      ],
      "execution_count": null,
      "outputs": []
    },
    {
      "cell_type": "code",
      "metadata": {
        "id": "F5QGTHGTIRSl"
      },
      "source": [
        "# Comparing Actual vs Predicted\n",
        "\n",
        "df = pd.DataFrame({'Actual': y_test, 'Predicted': y_pred})  \n",
        "df "
      ],
      "execution_count": null,
      "outputs": []
    },
    {
      "cell_type": "code",
      "metadata": {
        "id": "NCgtDH0zIRSl"
      },
      "source": [
        "# You can also test with your own data\n",
        "\n",
        "hours = [[9.25]]\n",
        "actual_pred = plot.predict(hours)\n",
        "print(f\"No of Hours = {hours}\")\n",
        "print(f\"Predicted Score = {actual_pred[0]}\")"
      ],
      "execution_count": null,
      "outputs": []
    },
    {
      "cell_type": "code",
      "metadata": {
        "id": "Y4k7uAYwIRSm"
      },
      "source": [
        "from sklearn import metrics  \n",
        "print('Mean Absolute Error:', \n",
        "      metrics.mean_absolute_error(y_test, y_pred)) "
      ],
      "execution_count": null,
      "outputs": []
    }
  ]
}
